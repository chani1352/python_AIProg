{
 "cells": [
  {
   "cell_type": "markdown",
   "metadata": {},
   "source": [
    "\n",
    "실습 과제1: NumPy를 활용한 행렬 변형 실습\n",
    "문제 1: 난수 행렬 생성\n",
    "N = 6과 M = 5로 설정하고, 0과 1 사이의 난수를 사용하여 (N, M) 형태의 행렬 A를 생성하세요.\n",
    "힌트: np.random.rand() 함수를 사용하세요.\n",
    "\n",
    "문제 2: 새로운 축 추가\n",
    "행렬 A에 np.newaxis를 사용하여 새로운 축을 추가하고, 결과를 B에 저장하세요. B의 형태는 (N, 1, M)이 되어야 합니다.\n",
    "\n",
    "문제 3: 슬라이싱을 이용한 특정 요소 변경\n",
    "행렬 B에서 세 번째 행의 모든 열을 슬라이싱하여 값을 0.3으로 변경하세요.\n",
    "\n",
    "문제 4: 축 위치를 다르게 설정하여 새로운 행렬 생성\n",
    "np.newaxis를 사용하여 A의 형태를 (1, N, M)로 변형한 결과를 C에 저장하고, (N, M, 1)로 변형한 결과를 D에 저장하세요. 각 행렬의 형태를 출력하여 확인하세요.\n",
    "\n",
    "문제 5: 슬라이싱을 통해 부분 행렬 변경\n",
    "행렬 D에서 마지막 세 행의 모든 요소를 0.8로 변경하세요.\n",
    "\n"
   ]
  },
  {
   "cell_type": "markdown",
   "metadata": {},
   "source": [
    "문제 1: 난수 행렬 생성"
   ]
  },
  {
   "cell_type": "code",
   "execution_count": 49,
   "metadata": {},
   "outputs": [],
   "source": [
    "import numpy as np\n",
    "N = 6\n",
    "M = 5\n",
    "A = np.random.random(size=(N,M))"
   ]
  },
  {
   "cell_type": "markdown",
   "metadata": {},
   "source": [
    "문제 2: 새로운 축 추가"
   ]
  },
  {
   "cell_type": "code",
   "execution_count": 50,
   "metadata": {},
   "outputs": [
    {
     "data": {
      "text/plain": [
       "(6, 1, 5)"
      ]
     },
     "execution_count": 50,
     "metadata": {},
     "output_type": "execute_result"
    }
   ],
   "source": [
    "B = A[:,np.newaxis]\n",
    "B\n",
    "B.shape"
   ]
  },
  {
   "cell_type": "markdown",
   "metadata": {},
   "source": [
    "문제 3: 슬라이싱을 이용한 특정 요소 변경"
   ]
  },
  {
   "cell_type": "code",
   "execution_count": 51,
   "metadata": {},
   "outputs": [
    {
     "data": {
      "text/plain": [
       "array([[[0.4849819 , 0.43814086, 0.65844437, 0.32363993, 0.05130484]],\n",
       "\n",
       "       [[0.3182495 , 0.30435131, 0.24022817, 0.91526921, 0.07272273]],\n",
       "\n",
       "       [[0.3       , 0.3       , 0.3       , 0.3       , 0.3       ]],\n",
       "\n",
       "       [[0.99422706, 0.87342965, 0.7988555 , 0.50252738, 0.87037367]],\n",
       "\n",
       "       [[0.76584244, 0.56065139, 0.56397238, 0.57667614, 0.48069326]],\n",
       "\n",
       "       [[0.81827903, 0.49086251, 0.76076632, 0.1445154 , 0.72690404]]])"
      ]
     },
     "execution_count": 51,
     "metadata": {},
     "output_type": "execute_result"
    }
   ],
   "source": [
    "B[2,:] = 0.3\n",
    "B"
   ]
  },
  {
   "cell_type": "markdown",
   "metadata": {},
   "source": [
    "문제 4: 축 위치를 다르게 설정하여 새로운 행렬 생성"
   ]
  },
  {
   "cell_type": "code",
   "execution_count": 52,
   "metadata": {},
   "outputs": [
    {
     "data": {
      "text/plain": [
       "(1, 6, 5)"
      ]
     },
     "execution_count": 52,
     "metadata": {},
     "output_type": "execute_result"
    }
   ],
   "source": [
    "C = A[np.newaxis,:]\n",
    "C.shape"
   ]
  },
  {
   "cell_type": "code",
   "execution_count": 53,
   "metadata": {},
   "outputs": [
    {
     "data": {
      "text/plain": [
       "(6, 5, 1)"
      ]
     },
     "execution_count": 53,
     "metadata": {},
     "output_type": "execute_result"
    }
   ],
   "source": [
    "D = A[:,:,np.newaxis]\n",
    "D.shape"
   ]
  },
  {
   "cell_type": "markdown",
   "metadata": {},
   "source": [
    "문제 5: 슬라이싱을 통해 부분 행렬 변경"
   ]
  },
  {
   "cell_type": "code",
   "execution_count": 54,
   "metadata": {},
   "outputs": [
    {
     "name": "stdout",
     "output_type": "stream",
     "text": [
      "[[[0.4849819 ]\n",
      "  [0.43814086]\n",
      "  [0.65844437]\n",
      "  [0.32363993]\n",
      "  [0.05130484]]\n",
      "\n",
      " [[0.3182495 ]\n",
      "  [0.30435131]\n",
      "  [0.24022817]\n",
      "  [0.91526921]\n",
      "  [0.07272273]]\n",
      "\n",
      " [[0.3       ]\n",
      "  [0.3       ]\n",
      "  [0.3       ]\n",
      "  [0.3       ]\n",
      "  [0.3       ]]\n",
      "\n",
      " [[0.8       ]\n",
      "  [0.8       ]\n",
      "  [0.8       ]\n",
      "  [0.8       ]\n",
      "  [0.8       ]]\n",
      "\n",
      " [[0.8       ]\n",
      "  [0.8       ]\n",
      "  [0.8       ]\n",
      "  [0.8       ]\n",
      "  [0.8       ]]\n",
      "\n",
      " [[0.8       ]\n",
      "  [0.8       ]\n",
      "  [0.8       ]\n",
      "  [0.8       ]\n",
      "  [0.8       ]]]\n"
     ]
    }
   ],
   "source": [
    "D[-3:] = 0.8\n",
    "print(D)"
   ]
  }
 ],
 "metadata": {
  "kernelspec": {
   "display_name": "Python 3",
   "language": "python",
   "name": "python3"
  },
  "language_info": {
   "codemirror_mode": {
    "name": "ipython",
    "version": 3
   },
   "file_extension": ".py",
   "mimetype": "text/x-python",
   "name": "python",
   "nbconvert_exporter": "python",
   "pygments_lexer": "ipython3",
   "version": "3.9.13"
  }
 },
 "nbformat": 4,
 "nbformat_minor": 2
}
