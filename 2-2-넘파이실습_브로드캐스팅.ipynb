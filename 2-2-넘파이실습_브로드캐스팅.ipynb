{
 "cells": [
  {
   "cell_type": "markdown",
   "metadata": {},
   "source": [
    "실습 과제2: 벡터화 연산과 브로드캐스팅 이해하기\n",
    "문제 1: 기본 벡터화와 브로드캐스팅 이해하기\n",
    "x = np.linspace(0, 5, 50)와 y = np.linspace(0, 5, 50)[:, np.newaxis]를 생성하세요. 여기서 x는 (50,)의 1차원 배열이고, y는 [:, np.newaxis]를 사용하여 (50, 1)의 2차원 배열로 변환됩니다.\n",
    "\n",
    "x와 y의 형태를 출력하여 브로드캐스팅이 어떻게 이루어지는지 확인하세요.\n",
    "\n",
    "문제 2: 브로드캐스팅을 활용하여 수식 계산하기\n",
    "z = np.sin(x) ** 200 + np.cos(300 + y * x) * np.cos(x)를 사용하여 z 배열을 계산하세요.\n",
    "\n",
    "z 배열의 형태를 출력하고, 브로드캐스팅에 의해 z의 형태가 (50, 50)이 되었는지 확인하세요.\n",
    "\n",
    "문제 3: 벡터화 연산으로 계산 속도 비교하기\n",
    "for 반복문을 사용해 z의 각 요소를 수동으로 계산하는 코드를 작성하고, 벡터화 연산으로 구한 z와 같은 결과가 나오는지 확인하세요.\n",
    "\n",
    "timeit 모듈을 사용하여 반복문을 통한 계산과 벡터화 연산을 각각 수행하는 데 걸리는 시간을 측정하고, 두 연산 방식의 속도 차이를 비교하세요.\n",
    "\n",
    "\n",
    "문제 4: 그래프를 사용해 시각적으로 결과 확인하기\n",
    "z 값을 시각적으로 이해하기 위해 matplotlib 라이브러리를 사용하여 z의 값을 컬러 맵으로 시각화하세요.\n",
    "\n",
    "plt.imshow(z, extent=(0, 5, 0, 5), origin='lower', cmap='viridis')와 plt.colorbar()를 사용해 결과를 시각화하고, 그래프의 형태를 확인하세요.\n",
    "\n"
   ]
  },
  {
   "cell_type": "markdown",
   "metadata": {},
   "source": [
    "문제 1: 기본 벡터화와 브로드캐스팅 이해하기"
   ]
  },
  {
   "cell_type": "code",
   "execution_count": 1,
   "metadata": {},
   "outputs": [
    {
     "name": "stdout",
     "output_type": "stream",
     "text": [
      "x:  (50,)  y :  (50, 1)\n"
     ]
    }
   ],
   "source": [
    "import numpy as np\n",
    "x = np.linspace(0,5,50)\n",
    "y = np.linspace(0,5,50)[:,np.newaxis]\n",
    "print(\"x: \" ,x.shape, \" y : \" ,y.shape)"
   ]
  },
  {
   "cell_type": "markdown",
   "metadata": {},
   "source": [
    "문제 2: 브로드캐스팅을 활용하여 수식 계산하기"
   ]
  },
  {
   "cell_type": "code",
   "execution_count": 2,
   "metadata": {},
   "outputs": [
    {
     "name": "stdout",
     "output_type": "stream",
     "text": [
      "z :  [[-0.02209662 -0.02198168 -0.02163806 ...  0.49547289  0.02724053\n",
      "  -0.00604054]\n",
      " [-0.02209662 -0.01162504 -0.00124733 ...  0.53489941  0.11614127\n",
      "   0.13325184]\n",
      " [-0.02209662 -0.00126714  0.01914395 ...  0.56550331  0.18429112\n",
      "   0.23866154]\n",
      " ...\n",
      " [-0.02209662  0.44811731  0.80031128 ...  0.42767562 -0.15237784\n",
      "  -0.26153187]\n",
      " [-0.02209662  0.45734059  0.81188813 ...  0.41425119 -0.13819336\n",
      "  -0.17481867]\n",
      " [-0.02209662  0.46651428  0.8231129  ...  0.42032637 -0.08254055\n",
      "  -0.04351942]]\n",
      " z.shape :  (50, 50)\n"
     ]
    }
   ],
   "source": [
    "z = np.sin(x)**200 + np.cos(300+y*x)*np.cos(x)\n",
    "print(\"z : \", z)\n",
    "print(\" z.shape : \",z.shape)"
   ]
  },
  {
   "cell_type": "markdown",
   "metadata": {},
   "source": [
    "문제 3: 벡터화 연산으로 계산 속도 비교하기"
   ]
  },
  {
   "cell_type": "code",
   "execution_count": 3,
   "metadata": {},
   "outputs": [
    {
     "name": "stdout",
     "output_type": "stream",
     "text": [
      "33.6 µs ± 838 ns per loop (mean ± std. dev. of 7 runs, 10,000 loops each)\n"
     ]
    }
   ],
   "source": [
    "%timeit z = np.sin(x)**200 + np.cos(300+y*x)*np.cos(x)"
   ]
  },
  {
   "cell_type": "code",
   "execution_count": 4,
   "metadata": {},
   "outputs": [
    {
     "name": "stdout",
     "output_type": "stream",
     "text": [
      "6.53 ms ± 33 µs per loop (mean ± std. dev. of 7 runs, 100 loops each)\n"
     ]
    }
   ],
   "source": [
    "def multi_xy(a,b):\n",
    "  result = np.empty((len(a),len(b)))\n",
    "  for i in range(len(b)):\n",
    "    for j in range(len(a)):\n",
    "      result[i][j] = np.sin(a[j])**200 + np.cos(300+b[i][0]*a[j])*np.cos(a[j])\n",
    "  return result\n",
    "%timeit z1 = multi_xy(x,y)\n"
   ]
  },
  {
   "cell_type": "markdown",
   "metadata": {},
   "source": [
    "문제 4: 그래프를 사용해 시각적으로 결과 확인하기"
   ]
  },
  {
   "cell_type": "code",
   "execution_count": 5,
   "metadata": {},
   "outputs": [
    {
     "data": {
      "text/plain": [
       "<matplotlib.image.AxesImage at 0x1ba0e3a68e0>"
      ]
     },
     "execution_count": 5,
     "metadata": {},
     "output_type": "execute_result"
    },
    {
     "data": {
      "image/png": "[encoded data removed]",
      "text/plain": [
       "<Figure size 640x480 with 1 Axes>"
      ]
     },
     "metadata": {},
     "output_type": "display_data"
    }
   ],
   "source": [
    "%matplotlib inline\n",
    "import matplotlib.pyplot as plt\n",
    "import seaborn; seaborn.set()\n",
    "# plt.style.use('seaborn-whitegrid')\n",
    "plt.imshow(z, extent=(0, 5, 0, 5), origin='lower', cmap='viridis')"
   ]
  }
 ],
 "metadata": {
  "kernelspec": {
   "display_name": "Python 3",
   "language": "python",
   "name": "python3"
  },
  "language_info": {
   "codemirror_mode": {
    "name": "ipython",
    "version": 3
   },
   "file_extension": ".py",
   "mimetype": "text/x-python",
   "name": "python",
   "nbconvert_exporter": "python",
   "pygments_lexer": "ipython3",
   "version": "3.9.13"
  }
 },
 "nbformat": 4,
 "nbformat_minor": 2
}
